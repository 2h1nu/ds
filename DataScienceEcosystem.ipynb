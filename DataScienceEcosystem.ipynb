{
 "cells": [
  {
   "cell_type": "markdown",
   "id": "6afd18b1-fc9b-4fba-9cd0-d5c1583f4605",
   "metadata": {},
   "source": [
    "# Data Science Tools and Ecosystem"
   ]
  },
  {
   "cell_type": "markdown",
   "id": "fb8b3dae-cc71-4a54-9173-08783cae7089",
   "metadata": {},
   "source": [
    "In this notebook, Data Science Tools and Ecosystem are summarized."
   ]
  },
  {
   "cell_type": "markdown",
   "id": "11487f7b-8c81-471c-a5ed-f6303bc90edb",
   "metadata": {},
   "source": [
    "**Objectives:**\n",
    "\n",
    "- List popular languages for Data Science\n",
    "- Understand key data science tools\n",
    "- Perform basic arithmetic operations in Python\n",
    "- Convert units (e.g., minutes to hours)\n",
    "- Create and execute code cells in a Jupyter notebook\n"
   ]
  },
  {
   "cell_type": "markdown",
   "id": "6c1dd0ac-e3fb-44d5-ac1b-f7c6ea01062a",
   "metadata": {},
   "source": [
    "Some of the commonly used libraries used by Data Scientists include:\n",
    "1. NumPy\n",
    "2. Pandas\n",
    "3. Matplotlib"
   ]
  },
  {
   "cell_type": "markdown",
   "id": "28ddbf8b-cf23-4117-90da-faf1aa50a1ba",
   "metadata": {},
   "source": [
    "|Data Science tools|\n",
    "|------------------|\n",
    "|jupyter notebook  |\n",
    "|RStudio           |\n",
    "|Apache Zeppelin"
   ]
  },
  {
   "cell_type": "markdown",
   "id": "4e90ed6c-4dd1-42be-8b1b-4726387b0407",
   "metadata": {},
   "source": [
    "### Below are a few examples of evaluating arithmetic expressions in Python\n"
   ]
  },
  {
   "cell_type": "code",
   "execution_count": 2,
   "id": "4e584a00-5af4-4ef6-9337-694e1c2c1a23",
   "metadata": {},
   "outputs": [
    {
     "data": {
      "text/plain": [
       "17"
      ]
     },
     "execution_count": 2,
     "metadata": {},
     "output_type": "execute_result"
    }
   ],
   "source": [
    "(3 * 4) + 5              #This a simple arithmetic expression to mutiply then add integers\n",
    "                            "
   ]
  },
  {
   "cell_type": "code",
   "execution_count": 3,
   "id": "488b52c6-5aa5-40da-9f80-1af853d6ad85",
   "metadata": {},
   "outputs": [
    {
     "data": {
      "text/plain": [
       "3.3333333333333335"
      ]
     },
     "execution_count": 3,
     "metadata": {},
     "output_type": "execute_result"
    }
   ],
   "source": [
    "200 / 60\n",
    " # This will convert 200 minutes to hours by diving by 60."
   ]
  },
  {
   "cell_type": "markdown",
   "id": "d061e33d-6350-4dcf-9a7c-d8d8d06f9123",
   "metadata": {},
   "source": [
    "## Author"
   ]
  },
  {
   "cell_type": "markdown",
   "id": "636bf325-7b90-4b3b-b458-b15952895456",
   "metadata": {},
   "source": [
    "Bhanu"
   ]
  },
  {
   "cell_type": "code",
   "execution_count": null,
   "id": "f1fc0be4-036d-41ee-a4f4-4520c35f31a0",
   "metadata": {},
   "outputs": [],
   "source": []
  }
 ],
 "metadata": {
  "kernelspec": {
   "display_name": "Python 3 (ipykernel)",
   "language": "python",
   "name": "python3"
  },
  "language_info": {
   "codemirror_mode": {
    "name": "ipython",
    "version": 3
   },
   "file_extension": ".py",
   "mimetype": "text/x-python",
   "name": "python",
   "nbconvert_exporter": "python",
   "pygments_lexer": "ipython3",
   "version": "3.11.7"
  }
 },
 "nbformat": 4,
 "nbformat_minor": 5
}
